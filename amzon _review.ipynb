{
 "cells": [
  {
   "cell_type": "code",
   "execution_count": 1,
   "id": "106f629c",
   "metadata": {},
   "outputs": [],
   "source": [
    "import pandas as pd"
   ]
  },
  {
   "cell_type": "code",
   "execution_count": 2,
   "id": "9228b3f6",
   "metadata": {},
   "outputs": [],
   "source": [
    "a=pd.read_csv(r\"F:\\PGA22\\NLP\\\\amazonreviews.tsv\",sep='\\t')"
   ]
  },
  {
   "cell_type": "code",
   "execution_count": 3,
   "id": "eb67bbe4",
   "metadata": {},
   "outputs": [
    {
     "data": {
      "text/html": [
       "<div>\n",
       "<style scoped>\n",
       "    .dataframe tbody tr th:only-of-type {\n",
       "        vertical-align: middle;\n",
       "    }\n",
       "\n",
       "    .dataframe tbody tr th {\n",
       "        vertical-align: top;\n",
       "    }\n",
       "\n",
       "    .dataframe thead th {\n",
       "        text-align: right;\n",
       "    }\n",
       "</style>\n",
       "<table border=\"1\" class=\"dataframe\">\n",
       "  <thead>\n",
       "    <tr style=\"text-align: right;\">\n",
       "      <th></th>\n",
       "      <th>label</th>\n",
       "      <th>review</th>\n",
       "    </tr>\n",
       "  </thead>\n",
       "  <tbody>\n",
       "    <tr>\n",
       "      <th>0</th>\n",
       "      <td>pos</td>\n",
       "      <td>Stuning even for the non-gamer: This sound tra...</td>\n",
       "    </tr>\n",
       "    <tr>\n",
       "      <th>1</th>\n",
       "      <td>pos</td>\n",
       "      <td>The best soundtrack ever to anything.: I'm rea...</td>\n",
       "    </tr>\n",
       "    <tr>\n",
       "      <th>2</th>\n",
       "      <td>pos</td>\n",
       "      <td>Amazing!: This soundtrack is my favorite music...</td>\n",
       "    </tr>\n",
       "    <tr>\n",
       "      <th>3</th>\n",
       "      <td>pos</td>\n",
       "      <td>Excellent Soundtrack: I truly like this soundt...</td>\n",
       "    </tr>\n",
       "    <tr>\n",
       "      <th>4</th>\n",
       "      <td>pos</td>\n",
       "      <td>Remember, Pull Your Jaw Off The Floor After He...</td>\n",
       "    </tr>\n",
       "  </tbody>\n",
       "</table>\n",
       "</div>"
      ],
      "text/plain": [
       "  label                                             review\n",
       "0   pos  Stuning even for the non-gamer: This sound tra...\n",
       "1   pos  The best soundtrack ever to anything.: I'm rea...\n",
       "2   pos  Amazing!: This soundtrack is my favorite music...\n",
       "3   pos  Excellent Soundtrack: I truly like this soundt...\n",
       "4   pos  Remember, Pull Your Jaw Off The Floor After He..."
      ]
     },
     "execution_count": 3,
     "metadata": {},
     "output_type": "execute_result"
    }
   ],
   "source": [
    "a.head()"
   ]
  },
  {
   "cell_type": "code",
   "execution_count": 4,
   "id": "f69d17ad",
   "metadata": {},
   "outputs": [
    {
     "data": {
      "text/plain": [
       "(10000, 2)"
      ]
     },
     "execution_count": 4,
     "metadata": {},
     "output_type": "execute_result"
    }
   ],
   "source": [
    "a.shape"
   ]
  },
  {
   "cell_type": "code",
   "execution_count": 5,
   "id": "f3c5f41b",
   "metadata": {},
   "outputs": [],
   "source": [
    "a.label.replace({\"pos\":1,\"neg\":0},inplace=True)# consider label as target variable"
   ]
  },
  {
   "cell_type": "code",
   "execution_count": 6,
   "id": "1003eb91",
   "metadata": {},
   "outputs": [
    {
     "data": {
      "text/plain": [
       "label     0\n",
       "review    0\n",
       "dtype: int64"
      ]
     },
     "execution_count": 6,
     "metadata": {},
     "output_type": "execute_result"
    }
   ],
   "source": [
    "a.isnull().sum()"
   ]
  },
  {
   "cell_type": "code",
   "execution_count": 7,
   "id": "59e82ec1",
   "metadata": {},
   "outputs": [],
   "source": [
    "a.review=a.review.str.lower()"
   ]
  },
  {
   "cell_type": "code",
   "execution_count": 8,
   "id": "81ddcb30",
   "metadata": {},
   "outputs": [],
   "source": [
    "import nltk"
   ]
  },
  {
   "cell_type": "code",
   "execution_count": 9,
   "id": "6ecf08e1",
   "metadata": {},
   "outputs": [
    {
     "name": "stderr",
     "output_type": "stream",
     "text": [
      "[nltk_data] Downloading package vader_lexicon to\n",
      "[nltk_data]     C:\\Users\\HP\\AppData\\Roaming\\nltk_data...\n",
      "[nltk_data]   Package vader_lexicon is already up-to-date!\n"
     ]
    },
    {
     "data": {
      "text/plain": [
       "True"
      ]
     },
     "execution_count": 9,
     "metadata": {},
     "output_type": "execute_result"
    }
   ],
   "source": [
    "nltk.downloader.download(\"vader_lexicon\")"
   ]
  },
  {
   "cell_type": "code",
   "execution_count": 10,
   "id": "59c8432e",
   "metadata": {},
   "outputs": [],
   "source": [
    "from nltk.sentiment.vader import SentimentIntensityAnalyzer"
   ]
  },
  {
   "cell_type": "code",
   "execution_count": 11,
   "id": "4aec180e",
   "metadata": {},
   "outputs": [
    {
     "name": "stderr",
     "output_type": "stream",
     "text": [
      "[nltk_data] Downloading package vader_lexicon to\n",
      "[nltk_data]     C:\\Users\\HP\\AppData\\Roaming\\nltk_data...\n",
      "[nltk_data]   Package vader_lexicon is already up-to-date!\n"
     ]
    },
    {
     "data": {
      "text/plain": [
       "True"
      ]
     },
     "execution_count": 11,
     "metadata": {},
     "output_type": "execute_result"
    }
   ],
   "source": [
    "nltk.download(\"vader_lexicon\")"
   ]
  },
  {
   "cell_type": "code",
   "execution_count": 12,
   "id": "86e8f920",
   "metadata": {},
   "outputs": [],
   "source": [
    "sent=SentimentIntensityAnalyzer()"
   ]
  },
  {
   "cell_type": "code",
   "execution_count": 13,
   "id": "33fcf09a",
   "metadata": {},
   "outputs": [
    {
     "data": {
      "text/plain": [
       "{'neg': 0.0, 'neu': 0.455, 'pos': 0.545, 'compound': 0.8625}"
      ]
     },
     "execution_count": 13,
     "metadata": {},
     "output_type": "execute_result"
    }
   ],
   "source": [
    "sent.polarity_scores(\"this milk was awesome .I had a heavenly feeling by taking a sip\")"
   ]
  },
  {
   "cell_type": "code",
   "execution_count": 14,
   "id": "9d191c6c",
   "metadata": {},
   "outputs": [],
   "source": [
    "## compound is overall score\n",
    "# neg is negative\n",
    "# neu is neutal\n",
    "## pos is positive "
   ]
  },
  {
   "cell_type": "code",
   "execution_count": 15,
   "id": "c3cdfda9",
   "metadata": {},
   "outputs": [],
   "source": [
    "#sore is between 0 to 1,oto-1"
   ]
  },
  {
   "cell_type": "code",
   "execution_count": 16,
   "id": "6e100b49",
   "metadata": {},
   "outputs": [
    {
     "data": {
      "text/plain": [
       "{'neg': 0.177, 'neu': 0.823, 'pos': 0.0, 'compound': -0.4215}"
      ]
     },
     "execution_count": 16,
     "metadata": {},
     "output_type": "execute_result"
    }
   ],
   "source": [
    "sent.polarity_scores(\"movie was and it was waste of money as i had already seen that movie\")"
   ]
  },
  {
   "cell_type": "code",
   "execution_count": 17,
   "id": "7d905a24",
   "metadata": {},
   "outputs": [
    {
     "data": {
      "text/plain": [
       "{'neg': 0.0, 'neu': 1.0, 'pos': 0.0, 'compound': 0.0}"
      ]
     },
     "execution_count": 17,
     "metadata": {},
     "output_type": "execute_result"
    }
   ],
   "source": [
    "sent.polarity_scores(\"sun rises in west\")"
   ]
  },
  {
   "cell_type": "code",
   "execution_count": 18,
   "id": "c56ae4f3",
   "metadata": {},
   "outputs": [
    {
     "data": {
      "text/plain": [
       "{'neg': 0.0, 'neu': 0.125, 'pos': 0.875, 'compound': 0.7906}"
      ]
     },
     "execution_count": 18,
     "metadata": {},
     "output_type": "execute_result"
    }
   ],
   "source": [
    "sent.polarity_scores(\"good was great\")"
   ]
  },
  {
   "cell_type": "code",
   "execution_count": 19,
   "id": "0a032d19",
   "metadata": {},
   "outputs": [],
   "source": [
    "abc=sent.polarity_scores(a.iloc[0][1])"
   ]
  },
  {
   "cell_type": "code",
   "execution_count": 20,
   "id": "69ee0cac",
   "metadata": {},
   "outputs": [
    {
     "data": {
      "text/plain": [
       "{'neg': 0.088, 'neu': 0.669, 'pos': 0.243, 'compound': 0.9454}"
      ]
     },
     "execution_count": 20,
     "metadata": {},
     "output_type": "execute_result"
    }
   ],
   "source": [
    "abc"
   ]
  },
  {
   "cell_type": "code",
   "execution_count": 21,
   "id": "ef2af82c",
   "metadata": {},
   "outputs": [
    {
     "data": {
      "text/plain": [
       "'stuning even for the non-gamer: this sound track was beautiful! it paints the senery in your mind so well i would recomend it even to people who hate vid. game music! i have played the game chrono cross but out of all of the games i have ever played it has the best music! it backs away from crude keyboarding and takes a fresher step with grate guitars and soulful orchestras. it would impress anyone who cares to listen! ^_^'"
      ]
     },
     "execution_count": 21,
     "metadata": {},
     "output_type": "execute_result"
    }
   ],
   "source": [
    "a.iloc[0][1]"
   ]
  },
  {
   "cell_type": "code",
   "execution_count": 22,
   "id": "e48ae14c",
   "metadata": {},
   "outputs": [
    {
     "data": {
      "text/html": [
       "<div>\n",
       "<style scoped>\n",
       "    .dataframe tbody tr th:only-of-type {\n",
       "        vertical-align: middle;\n",
       "    }\n",
       "\n",
       "    .dataframe tbody tr th {\n",
       "        vertical-align: top;\n",
       "    }\n",
       "\n",
       "    .dataframe thead th {\n",
       "        text-align: right;\n",
       "    }\n",
       "</style>\n",
       "<table border=\"1\" class=\"dataframe\">\n",
       "  <thead>\n",
       "    <tr style=\"text-align: right;\">\n",
       "      <th></th>\n",
       "      <th>label</th>\n",
       "      <th>review</th>\n",
       "    </tr>\n",
       "  </thead>\n",
       "  <tbody>\n",
       "    <tr>\n",
       "      <th>0</th>\n",
       "      <td>1</td>\n",
       "      <td>stuning even for the non-gamer: this sound tra...</td>\n",
       "    </tr>\n",
       "    <tr>\n",
       "      <th>1</th>\n",
       "      <td>1</td>\n",
       "      <td>the best soundtrack ever to anything.: i'm rea...</td>\n",
       "    </tr>\n",
       "    <tr>\n",
       "      <th>2</th>\n",
       "      <td>1</td>\n",
       "      <td>amazing!: this soundtrack is my favorite music...</td>\n",
       "    </tr>\n",
       "  </tbody>\n",
       "</table>\n",
       "</div>"
      ],
      "text/plain": [
       "   label                                             review\n",
       "0      1  stuning even for the non-gamer: this sound tra...\n",
       "1      1  the best soundtrack ever to anything.: i'm rea...\n",
       "2      1  amazing!: this soundtrack is my favorite music..."
      ]
     },
     "execution_count": 22,
     "metadata": {},
     "output_type": "execute_result"
    }
   ],
   "source": [
    "a.head(3)"
   ]
  },
  {
   "cell_type": "code",
   "execution_count": 23,
   "id": "2193613a",
   "metadata": {},
   "outputs": [],
   "source": [
    "# aproduct was launchecd AMZON FEW THOUSAND CUSTOMER HAS GIVEN THE FEEDBACK COMPANY IS INTERSED TO FIND IF THE OVER ALL CUSTOMER SENTIMENT IS POSITIVE OR NEGATIVE"
   ]
  },
  {
   "cell_type": "code",
   "execution_count": 24,
   "id": "801cd172",
   "metadata": {},
   "outputs": [],
   "source": [
    "score_com=[]\n",
    "score_pos=[]\n",
    "score_neg=[]\n",
    "for i in range (0,a.shape[0]):\n",
    "    score=sent.polarity_scores(a.iloc[i][1])\n",
    "    score1=score[\"compound\"]\n",
    "    score_com.append(score1)\n",
    "    # below 2 lines to extract the positive sentiment\n",
    "    score2=score[\"pos\"]\n",
    "    score_pos.append(score2)\n",
    "    # below 2 lines to extract the negative sentiment\n",
    "    score2=score[\"neg\"]\n",
    "    score_neg.append(score2)\n"
   ]
  },
  {
   "cell_type": "code",
   "execution_count": 25,
   "id": "24861774",
   "metadata": {},
   "outputs": [
    {
     "data": {
      "text/plain": [
       "[0.9454,\n",
       " 0.8957,\n",
       " 0.9858,\n",
       " 0.9814,\n",
       " 0.9781,\n",
       " 0.99,\n",
       " -0.8744,\n",
       " 0.99,\n",
       " 0.8353,\n",
       " 0.8196,\n",
       " -0.9274,\n",
       " 0.9538,\n",
       " 0.985,\n",
       " 0.9097,\n",
       " -0.9312,\n",
       " -0.5414,\n",
       " 0.9454,\n",
       " 0.5182,\n",
       " 0.7787,\n",
       " 0.4926,\n",
       " 0.6318,\n",
       " 0.959,\n",
       " 0.9667,\n",
       " 0.9815,\n",
       " 0.8979,\n",
       " -0.7845,\n",
       " -0.0857,\n",
       " -0.4767,\n",
       " 0.6486,\n",
       " 0.9176,\n",
       " -0.7433,\n",
       " 0.9015,\n",
       " -0.8345,\n",
       " 0.9896,\n",
       " 0.4434,\n",
       " 0.8513,\n",
       " 0.8219,\n",
       " 0.9824,\n",
       " 0.5951,\n",
       " 0.0892,\n",
       " 0.6177,\n",
       " 0.7948,\n",
       " 0.8402,\n",
       " -0.1027,\n",
       " 0.4019,\n",
       " 0.7717,\n",
       " -0.8688,\n",
       " 0.9025,\n",
       " -0.8061,\n",
       " -0.6226,\n",
       " 0.8979,\n",
       " 0.8288,\n",
       " -0.8805,\n",
       " 0.9884,\n",
       " -0.3239,\n",
       " -0.378,\n",
       " 0.5984,\n",
       " -0.0731,\n",
       " 0.7506,\n",
       " -0.6858,\n",
       " 0.3695,\n",
       " -0.1327,\n",
       " -0.9005,\n",
       " -0.3612,\n",
       " 0.2023,\n",
       " -0.6369,\n",
       " 0.9854,\n",
       " 0.9819,\n",
       " 0.9558,\n",
       " 0.9852,\n",
       " 0.3948,\n",
       " -0.9806,\n",
       " 0.5244,\n",
       " 0.9427,\n",
       " 0.8125,\n",
       " -0.1635,\n",
       " 0.6586,\n",
       " 0.9042,\n",
       " -0.7685,\n",
       " -0.0752,\n",
       " 0.5927,\n",
       " 0.9823,\n",
       " 0.6705,\n",
       " 0.7783,\n",
       " 0.6369,\n",
       " 0.9775,\n",
       " -0.6486,\n",
       " 0.6808,\n",
       " -0.6391,\n",
       " 0.3403,\n",
       " 0.5457,\n",
       " 0.7312,\n",
       " 0.9499,\n",
       " -0.8176,\n",
       " 0.9566,\n",
       " -0.0231,\n",
       " 0.9273,\n",
       " -0.3182,\n",
       " 0.8268,\n",
       " 0.0,\n",
       " 0.765,\n",
       " 0.9909,\n",
       " 0.9305,\n",
       " -0.9571,\n",
       " -0.802,\n",
       " -0.6369,\n",
       " 0.9653,\n",
       " -0.7862,\n",
       " -0.6222,\n",
       " 0.8718,\n",
       " 0.9817,\n",
       " 0.9406,\n",
       " 0.8999,\n",
       " 0.9337,\n",
       " 0.8016,\n",
       " -0.5696,\n",
       " 0.9852,\n",
       " 0.1263,\n",
       " 0.761,\n",
       " 0.8586,\n",
       " 0.9764,\n",
       " 0.9042,\n",
       " 0.3898,\n",
       " -0.4184,\n",
       " 0.959,\n",
       " -0.765,\n",
       " 0.8569,\n",
       " 0.9062,\n",
       " -0.2144,\n",
       " 0.9347,\n",
       " 0.3071,\n",
       " 0.7778,\n",
       " 0.6761,\n",
       " 0.7708,\n",
       " -0.6709,\n",
       " 0.918,\n",
       " -0.309,\n",
       " 0.9381,\n",
       " -0.25,\n",
       " 0.954,\n",
       " 0.8487,\n",
       " 0.9544,\n",
       " 0.9187,\n",
       " 0.9118,\n",
       " 0.7173,\n",
       " 0.8341,\n",
       " -0.141,\n",
       " -0.128,\n",
       " 0.9366,\n",
       " 0.875,\n",
       " 0.3616,\n",
       " -0.5918,\n",
       " 0.9281,\n",
       " 0.6996,\n",
       " -0.7412,\n",
       " 0.9167,\n",
       " 0.5423,\n",
       " -0.8151,\n",
       " 0.9178,\n",
       " 0.9217,\n",
       " 0.7816,\n",
       " 0.9571,\n",
       " 0.7087,\n",
       " 0.7902,\n",
       " 0.9745,\n",
       " 0.9649,\n",
       " 0.784,\n",
       " 0.9117,\n",
       " 0.9777,\n",
       " 0.9078,\n",
       " 0.3802,\n",
       " 0.9531,\n",
       " 0.8021,\n",
       " 0.2312,\n",
       " -0.5803,\n",
       " 0.8316,\n",
       " 0.0,\n",
       " 0.7906,\n",
       " 0.9636,\n",
       " 0.6249,\n",
       " -0.93,\n",
       " 0.2617,\n",
       " 0.5994,\n",
       " -0.503,\n",
       " 0.9162,\n",
       " 0.9677,\n",
       " 0.6336,\n",
       " -0.2748,\n",
       " -0.4988,\n",
       " -0.6369,\n",
       " -0.9283,\n",
       " 0.9716,\n",
       " 0.8873,\n",
       " 0.8616,\n",
       " 0.886,\n",
       " 0.9855,\n",
       " 0.7275,\n",
       " 0.5574,\n",
       " 0.3818,\n",
       " 0.211,\n",
       " -0.4325,\n",
       " 0.5635,\n",
       " -0.6046,\n",
       " 0.4881,\n",
       " -0.3412,\n",
       " 0.5719,\n",
       " -0.296,\n",
       " 0.4621,\n",
       " -0.9381,\n",
       " 0.905,\n",
       " 0.9604,\n",
       " 0.9861,\n",
       " 0.8284,\n",
       " -0.1027,\n",
       " 0.0516,\n",
       " 0.6989,\n",
       " 0.6369,\n",
       " -0.9221,\n",
       " 0.9842,\n",
       " 0.9305,\n",
       " 0.9325,\n",
       " 0.654,\n",
       " 0.6647,\n",
       " 0.7828,\n",
       " -0.3989,\n",
       " -0.5702,\n",
       " 0.0083,\n",
       " -0.3404,\n",
       " 0.2905,\n",
       " 0.9896,\n",
       " 0.9132,\n",
       " 0.9875,\n",
       " 0.9469,\n",
       " 0.8309,\n",
       " 0.9616,\n",
       " 0.9738,\n",
       " 0.9784,\n",
       " 0.9537,\n",
       " 0.8126,\n",
       " 0.9686,\n",
       " 0.6369,\n",
       " 0.8332,\n",
       " -0.4404,\n",
       " 0.7157,\n",
       " -0.8976,\n",
       " 0.9529,\n",
       " 0.7202,\n",
       " 0.5329,\n",
       " 0.9682,\n",
       " 0.9941,\n",
       " 0.5859,\n",
       " 0.5411,\n",
       " 0.4129,\n",
       " 0.2964,\n",
       " -0.9534,\n",
       " -0.4812,\n",
       " -0.6124,\n",
       " -0.872,\n",
       " -0.828,\n",
       " -0.0378,\n",
       " 0.7401,\n",
       " -0.5574,\n",
       " 0.891,\n",
       " -0.3919,\n",
       " -0.4939,\n",
       " -0.4391,\n",
       " -0.1779,\n",
       " 0.296,\n",
       " -0.7193,\n",
       " 0.1761,\n",
       " 0.7919,\n",
       " -0.5028,\n",
       " -0.9013,\n",
       " 0.9107,\n",
       " -0.9246,\n",
       " 0.9786,\n",
       " 0.9873,\n",
       " 0.9743,\n",
       " 0.9933,\n",
       " 0.9942,\n",
       " 0.9796,\n",
       " 0.9458,\n",
       " 0.9207,\n",
       " 0.8807,\n",
       " -0.338,\n",
       " 0.9388,\n",
       " 0.9802,\n",
       " 0.9729,\n",
       " -0.5916,\n",
       " 0.7692,\n",
       " 0.3506,\n",
       " 0.7783,\n",
       " -0.0056,\n",
       " -0.2047,\n",
       " 0.9474,\n",
       " 0.7717,\n",
       " 0.4202,\n",
       " 0.8967,\n",
       " 0.2023,\n",
       " -0.1027,\n",
       " -0.5574,\n",
       " -0.828,\n",
       " 0.3798,\n",
       " 0.9947,\n",
       " 0.8957,\n",
       " -0.9723,\n",
       " 0.0,\n",
       " 0.9768,\n",
       " 0.8481,\n",
       " 0.9776,\n",
       " 0.9872,\n",
       " 0.8833,\n",
       " 0.9492,\n",
       " 0.9798,\n",
       " 0.1759,\n",
       " 0.9665,\n",
       " 0.6059,\n",
       " 0.765,\n",
       " 0.931,\n",
       " 0.9716,\n",
       " 0.7069,\n",
       " -0.91,\n",
       " 0.8171,\n",
       " -0.7644,\n",
       " 0.9665,\n",
       " -0.1982,\n",
       " 0.9548,\n",
       " 0.9654,\n",
       " 0.8536,\n",
       " 0.5242,\n",
       " 0.9643,\n",
       " 0.8642,\n",
       " 0.9474,\n",
       " 0.7269,\n",
       " 0.936,\n",
       " 0.1759,\n",
       " 0.9821,\n",
       " 0.9437,\n",
       " -0.9042,\n",
       " 0.8945,\n",
       " 0.9512,\n",
       " 0.4458,\n",
       " 0.9601,\n",
       " 0.9081,\n",
       " 0.936,\n",
       " 0.8246,\n",
       " 0.9327,\n",
       " 0.9231,\n",
       " 0.9794,\n",
       " 0.6482,\n",
       " 0.8535,\n",
       " 0.8516,\n",
       " 0.9117,\n",
       " 0.4939,\n",
       " 0.8465,\n",
       " -0.2508,\n",
       " 0.8723,\n",
       " 0.9765,\n",
       " 0.9565,\n",
       " 0.9731,\n",
       " 0.7574,\n",
       " 0.5901,\n",
       " 0.9595,\n",
       " 0.4588,\n",
       " 0.9448,\n",
       " 0.9337,\n",
       " -0.3818,\n",
       " 0.8764,\n",
       " 0.9595,\n",
       " 0.8472,\n",
       " 0.8225,\n",
       " -0.9745,\n",
       " 0.5853,\n",
       " 0.9349,\n",
       " -0.7521,\n",
       " 0.2315,\n",
       " -0.9348,\n",
       " 0.5574,\n",
       " -0.6249,\n",
       " 0.3997,\n",
       " 0.3788,\n",
       " -0.195,\n",
       " 0.8885,\n",
       " 0.7405,\n",
       " 0.7579,\n",
       " -0.9246,\n",
       " 0.217,\n",
       " 0.8594,\n",
       " 0.4112,\n",
       " -0.874,\n",
       " 0.1459,\n",
       " -0.9735,\n",
       " 0.6865,\n",
       " 0.053,\n",
       " 0.6901,\n",
       " 0.85,\n",
       " 0.235,\n",
       " 0.2267,\n",
       " 0.9277,\n",
       " 0.9755,\n",
       " 0.9818,\n",
       " 0.8923,\n",
       " 0.8023,\n",
       " 0.9887,\n",
       " 0.9677,\n",
       " -0.9416,\n",
       " -0.923,\n",
       " 0.3975,\n",
       " 0.9444,\n",
       " 0.9708,\n",
       " 0.9752,\n",
       " -0.6919,\n",
       " -0.9021,\n",
       " -0.1672,\n",
       " 0.8834,\n",
       " -0.4433,\n",
       " -0.7717,\n",
       " 0.9549,\n",
       " -0.5586,\n",
       " -0.471,\n",
       " -0.8306,\n",
       " 0.8481,\n",
       " 0.9902,\n",
       " 0.0224,\n",
       " -0.4815,\n",
       " 0.7738,\n",
       " -0.0444,\n",
       " 0.9678,\n",
       " 0.9755,\n",
       " 0.8566,\n",
       " 0.9936,\n",
       " 0.9654,\n",
       " 0.9545,\n",
       " 0.9841,\n",
       " -0.0187,\n",
       " -0.5106,\n",
       " -0.5994,\n",
       " -0.7849,\n",
       " -0.9071,\n",
       " 0.4019,\n",
       " 0.8277,\n",
       " -0.5267,\n",
       " 0.8294,\n",
       " 0.9627,\n",
       " 0.7584,\n",
       " 0.9147,\n",
       " 0.9422,\n",
       " 0.7385,\n",
       " 0.8689,\n",
       " 0.4218,\n",
       " -0.3818,\n",
       " 0.8434,\n",
       " -0.9333,\n",
       " -0.4019,\n",
       " -0.3489,\n",
       " -0.9651,\n",
       " -0.296,\n",
       " -0.9327,\n",
       " -0.8548,\n",
       " 0.926,\n",
       " -0.126,\n",
       " -0.5574,\n",
       " 0.9392,\n",
       " -0.9286,\n",
       " -0.9424,\n",
       " 0.8126,\n",
       " -0.765,\n",
       " 0.1303,\n",
       " 0.2942,\n",
       " -0.891,\n",
       " 0.9491,\n",
       " -0.9403,\n",
       " 0.6867,\n",
       " -0.9296,\n",
       " -0.8176,\n",
       " 0.9151,\n",
       " -0.5423,\n",
       " -0.7101,\n",
       " 0.8436,\n",
       " -0.8091,\n",
       " 0.7096,\n",
       " 0.1511,\n",
       " 0.9022,\n",
       " 0.4149,\n",
       " 0.9664,\n",
       " -0.0842,\n",
       " -0.6792,\n",
       " 0.7579,\n",
       " -0.4451,\n",
       " 0.8878,\n",
       " 0.8074,\n",
       " 0.4404,\n",
       " -0.6768,\n",
       " -0.5563,\n",
       " 0.9451,\n",
       " 0.5635,\n",
       " 0.9216,\n",
       " 0.9273,\n",
       " 0.5719,\n",
       " -0.4939,\n",
       " 0.4767,\n",
       " 0.8979,\n",
       " 0.7802,\n",
       " 0.7549,\n",
       " 0.7565,\n",
       " 0.7511,\n",
       " -0.5934,\n",
       " -0.7684,\n",
       " -0.637,\n",
       " -0.25,\n",
       " 0.9394,\n",
       " 0.5106,\n",
       " -0.3818,\n",
       " 0.4215,\n",
       " -0.926,\n",
       " 0.5859,\n",
       " 0.9409,\n",
       " 0.7003,\n",
       " 0.7778,\n",
       " 0.8905,\n",
       " 0.743,\n",
       " -0.2625,\n",
       " -0.3164,\n",
       " 0.8883,\n",
       " 0.972,\n",
       " 0.5719,\n",
       " -0.2501,\n",
       " -0.378,\n",
       " -0.8181,\n",
       " 0.8976,\n",
       " -0.3257,\n",
       " 0.9826,\n",
       " -0.7848,\n",
       " 0.8625,\n",
       " 0.975,\n",
       " 0.9111,\n",
       " 0.8061,\n",
       " 0.7238,\n",
       " 0.6705,\n",
       " 0.0772,\n",
       " 0.9821,\n",
       " 0.4404,\n",
       " 0.6997,\n",
       " -0.9485,\n",
       " 0.1729,\n",
       " 0.5699,\n",
       " 0.9559,\n",
       " -0.4218,\n",
       " 0.8046,\n",
       " -0.495,\n",
       " 0.9078,\n",
       " 0.944,\n",
       " 0.9062,\n",
       " 0.9883,\n",
       " 0.765,\n",
       " 0.8047,\n",
       " -0.2263,\n",
       " 0.8741,\n",
       " 0.4885,\n",
       " 0.1901,\n",
       " 0.9246,\n",
       " 0.9583,\n",
       " 0.871,\n",
       " 0.9878,\n",
       " 0.1406,\n",
       " 0.8995,\n",
       " -0.2269,\n",
       " 0.8748,\n",
       " -0.3919,\n",
       " 0.4357,\n",
       " 0.8165,\n",
       " 0.7783,\n",
       " 0.8047,\n",
       " 0.9671,\n",
       " 0.7897,\n",
       " 0.7845,\n",
       " 0.9464,\n",
       " -0.4767,\n",
       " 0.0,\n",
       " 0.944,\n",
       " 0.9245,\n",
       " 0.8122,\n",
       " 0.9092,\n",
       " 0.2466,\n",
       " 0.2924,\n",
       " 0.9533,\n",
       " -0.9456,\n",
       " -0.577,\n",
       " 0.8779,\n",
       " -0.9542,\n",
       " 0.9267,\n",
       " 0.3716,\n",
       " 0.9531,\n",
       " 0.6124,\n",
       " 0.8745,\n",
       " 0.0,\n",
       " 0.9656,\n",
       " 0.202,\n",
       " 0.9726,\n",
       " -0.3538,\n",
       " 0.7499,\n",
       " 0.7152,\n",
       " 0.875,\n",
       " 0.928,\n",
       " 0.9103,\n",
       " 0.9572,\n",
       " 0.7726,\n",
       " -0.8402,\n",
       " -0.2481,\n",
       " 0.8872,\n",
       " -0.8309,\n",
       " 0.9848,\n",
       " -0.612,\n",
       " 0.4835,\n",
       " -0.8877,\n",
       " -0.3595,\n",
       " -0.6597,\n",
       " 0.9898,\n",
       " 0.9839,\n",
       " -0.3195,\n",
       " 0.8652,\n",
       " 0.3578,\n",
       " 0.6331,\n",
       " -0.9604,\n",
       " 0.9833,\n",
       " 0.91,\n",
       " -0.1027,\n",
       " 0.4812,\n",
       " 0.3339,\n",
       " 0.4389,\n",
       " -0.1196,\n",
       " -0.765,\n",
       " 0.8555,\n",
       " 0.9789,\n",
       " 0.8439,\n",
       " 0.7892,\n",
       " -0.9688,\n",
       " -0.6888,\n",
       " 0.891,\n",
       " -0.9168,\n",
       " 0.6369,\n",
       " 0.8126,\n",
       " 0.9509,\n",
       " 0.9788,\n",
       " 0.9504,\n",
       " 0.9217,\n",
       " 0.8944,\n",
       " 0.4019,\n",
       " 0.5017,\n",
       " 0.9787,\n",
       " 0.9768,\n",
       " -0.951,\n",
       " -0.958,\n",
       " -0.904,\n",
       " -0.7182,\n",
       " -0.7088,\n",
       " 0.784,\n",
       " 0.9274,\n",
       " 0.9472,\n",
       " 0.8439,\n",
       " 0.1002,\n",
       " -0.4019,\n",
       " -0.5593,\n",
       " 0.9849,\n",
       " 0.5411,\n",
       " 0.8834,\n",
       " 0.9731,\n",
       " -0.8074,\n",
       " 0.8933,\n",
       " 0.8595,\n",
       " 0.4545,\n",
       " -0.8436,\n",
       " 0.0516,\n",
       " 0.7717,\n",
       " 0.9531,\n",
       " -0.6996,\n",
       " -0.7192,\n",
       " 0.3561,\n",
       " -0.304,\n",
       " -0.7543,\n",
       " 0.9408,\n",
       " 0.9606,\n",
       " 0.5887,\n",
       " 0.8942,\n",
       " -0.5899,\n",
       " -0.9287,\n",
       " -0.5267,\n",
       " -0.9886,\n",
       " 0.0194,\n",
       " -0.6486,\n",
       " -0.8456,\n",
       " 0.9698,\n",
       " 0.6122,\n",
       " -0.8156,\n",
       " -0.8126,\n",
       " 0.3425,\n",
       " -0.6142,\n",
       " 0.7906,\n",
       " 0.5859,\n",
       " -0.7401,\n",
       " 0.9506,\n",
       " -0.4803,\n",
       " -0.8254,\n",
       " 0.0201,\n",
       " -0.8036,\n",
       " -0.7783,\n",
       " -0.9738,\n",
       " -0.8442,\n",
       " -0.2831,\n",
       " -0.7269,\n",
       " -0.8352,\n",
       " -0.6908,\n",
       " -0.25,\n",
       " -0.9644,\n",
       " 0.7047,\n",
       " -0.9095,\n",
       " 0.0038,\n",
       " -0.6597,\n",
       " -0.9941,\n",
       " 0.4521,\n",
       " 0.9459,\n",
       " 0.9413,\n",
       " 0.1655,\n",
       " -0.5386,\n",
       " 0.9823,\n",
       " -0.3182,\n",
       " 0.9652,\n",
       " -0.8848,\n",
       " -0.1531,\n",
       " -0.8353,\n",
       " -0.6261,\n",
       " -0.5413,\n",
       " -0.0516,\n",
       " 0.4767,\n",
       " 0.6803,\n",
       " -0.9701,\n",
       " -0.8074,\n",
       " 0.09,\n",
       " -0.5376,\n",
       " -0.5106,\n",
       " -0.8477,\n",
       " -0.8149,\n",
       " -0.1389,\n",
       " 0.491,\n",
       " 0.93,\n",
       " 0.0232,\n",
       " 0.986,\n",
       " 0.9795,\n",
       " 0.98,\n",
       " -0.5043,\n",
       " 0.9162,\n",
       " 0.8221,\n",
       " 0.9081,\n",
       " -0.1263,\n",
       " 0.7964,\n",
       " 0.9428,\n",
       " 0.4939,\n",
       " 0.9299,\n",
       " 0.8934,\n",
       " -0.3291,\n",
       " 0.9039,\n",
       " 0.9137,\n",
       " -0.1481,\n",
       " 0.8843,\n",
       " 0.8292,\n",
       " 0.2481,\n",
       " 0.0129,\n",
       " -0.678,\n",
       " 0.644,\n",
       " -0.0516,\n",
       " -0.2936,\n",
       " 0.891,\n",
       " 0.9622,\n",
       " 0.9062,\n",
       " 0.5091,\n",
       " 0.4767,\n",
       " 0.9488,\n",
       " 0.966,\n",
       " 0.875,\n",
       " 0.5984,\n",
       " 0.9448,\n",
       " 0.9245,\n",
       " 0.9559,\n",
       " 0.9451,\n",
       " 0.9216,\n",
       " -0.9358,\n",
       " -0.8349,\n",
       " -0.743,\n",
       " 0.3523,\n",
       " 0.6792,\n",
       " 0.8122,\n",
       " -0.0096,\n",
       " 0.9735,\n",
       " 0.2453,\n",
       " 0.813,\n",
       " -0.7175,\n",
       " 0.6303,\n",
       " 0.3536,\n",
       " 0.8338,\n",
       " 0.9595,\n",
       " 0.9426,\n",
       " -0.8655,\n",
       " -0.1027,\n",
       " -0.8118,\n",
       " 0.3693,\n",
       " 0.5429,\n",
       " -0.9808,\n",
       " 0.6258,\n",
       " -0.81,\n",
       " 0.9674,\n",
       " 0.9859,\n",
       " -0.6801,\n",
       " 0.9556,\n",
       " -0.9081,\n",
       " 0.9625,\n",
       " 0.952,\n",
       " -0.7345,\n",
       " 0.9531,\n",
       " -0.9606,\n",
       " -0.8225,\n",
       " 0.3484,\n",
       " -0.6803,\n",
       " 0.8761,\n",
       " -0.296,\n",
       " -0.9673,\n",
       " 0.8811,\n",
       " 0.0,\n",
       " 0.5873,\n",
       " 0.4395,\n",
       " 0.9448,\n",
       " -0.7269,\n",
       " 0.6184,\n",
       " 0.434,\n",
       " -0.9169,\n",
       " 0.9022,\n",
       " -0.9728,\n",
       " -0.4092,\n",
       " 0.8951,\n",
       " 0.0602,\n",
       " 0.9207,\n",
       " 0.9381,\n",
       " 0.4754,\n",
       " 0.7649,\n",
       " -0.2969,\n",
       " 0.8437,\n",
       " -0.09,\n",
       " 0.8239,\n",
       " 0.8606,\n",
       " 0.4168,\n",
       " -0.6894,\n",
       " 0.7661,\n",
       " 0.3788,\n",
       " -0.8507,\n",
       " 0.5034,\n",
       " -0.768,\n",
       " -0.9288,\n",
       " -0.9879,\n",
       " 0.545,\n",
       " -0.9677,\n",
       " 0.3197,\n",
       " 0.9424,\n",
       " -0.1469,\n",
       " -0.4802,\n",
       " -0.8687,\n",
       " -0.7696,\n",
       " -0.7792,\n",
       " 0.7269,\n",
       " -0.9042,\n",
       " 0.61,\n",
       " -0.0384,\n",
       " -0.1823,\n",
       " 0.9661,\n",
       " 0.9133,\n",
       " 0.8981,\n",
       " 0.1045,\n",
       " 0.8481,\n",
       " -0.6232,\n",
       " 0.3272,\n",
       " 0.9833,\n",
       " 0.268,\n",
       " 0.34,\n",
       " 0.7003,\n",
       " 0.7856,\n",
       " -0.827,\n",
       " -0.5859,\n",
       " -0.4734,\n",
       " -0.7306,\n",
       " 0.9172,\n",
       " -0.0202,\n",
       " 0.8571,\n",
       " 0.8694,\n",
       " 0.5423,\n",
       " -0.9098,\n",
       " -0.9612,\n",
       " -0.6613,\n",
       " 0.8176,\n",
       " 0.981,\n",
       " -0.6725,\n",
       " 0.9647,\n",
       " -0.4145,\n",
       " 0.9353,\n",
       " 0.9505,\n",
       " 0.7711,\n",
       " 0.765,\n",
       " 0.8779,\n",
       " 0.9294,\n",
       " -0.3423,\n",
       " 0.9594,\n",
       " -0.8758,\n",
       " -0.3147,\n",
       " -0.6666,\n",
       " 0.9459,\n",
       " -0.2379,\n",
       " -0.3257,\n",
       " 0.281,\n",
       " 0.8781,\n",
       " 0.6946,\n",
       " -0.9183,\n",
       " 0.1867,\n",
       " 0.0112,\n",
       " 0.0173,\n",
       " 0.948,\n",
       " 0.7879,\n",
       " -0.0258,\n",
       " 0.7921,\n",
       " 0.296,\n",
       " 0.4199,\n",
       " 0.7964,\n",
       " 0.0,\n",
       " 0.2937,\n",
       " 0.5532,\n",
       " -0.743,\n",
       " -0.9608,\n",
       " 0.8873,\n",
       " -0.2105,\n",
       " -0.7841,\n",
       " -0.9492,\n",
       " 0.9877,\n",
       " -0.2269,\n",
       " -0.0176,\n",
       " 0.4344,\n",
       " -0.0,\n",
       " -0.8074,\n",
       " -0.9101,\n",
       " 0.8778,\n",
       " -0.9861,\n",
       " 0.8717,\n",
       " -0.6985,\n",
       " -0.4664,\n",
       " 0.9643,\n",
       " 0.9795,\n",
       " 0.9437,\n",
       " 0.966,\n",
       " 0.5001,\n",
       " 0.6164,\n",
       " -0.9862,\n",
       " 0.0,\n",
       " -0.7469,\n",
       " -0.7992,\n",
       " 0.9786,\n",
       " -0.2382,\n",
       " 0.1779,\n",
       " 0.9818,\n",
       " 0.0,\n",
       " 0.3182,\n",
       " 0.9017,\n",
       " 0.9106,\n",
       " 0.8126,\n",
       " 0.9009,\n",
       " 0.9694,\n",
       " -0.8891,\n",
       " 0.8976,\n",
       " -0.899,\n",
       " 0.886,\n",
       " 0.3651,\n",
       " -0.0297,\n",
       " 0.9699,\n",
       " 0.923,\n",
       " 0.9403,\n",
       " 0.9746,\n",
       " 0.9767,\n",
       " 0.9644,\n",
       " 0.9894,\n",
       " 0.9544,\n",
       " 0.9761,\n",
       " 0.802,\n",
       " 0.9806,\n",
       " -0.6711,\n",
       " 0.2263,\n",
       " 0.7102,\n",
       " 0.8727,\n",
       " 0.9512,\n",
       " 0.5106,\n",
       " -0.1178,\n",
       " 0.802,\n",
       " 0.3772,\n",
       " -0.4767,\n",
       " 0.9116,\n",
       " -0.137,\n",
       " 0.5413,\n",
       " ...]"
      ]
     },
     "execution_count": 25,
     "metadata": {},
     "output_type": "execute_result"
    }
   ],
   "source": [
    "score_com"
   ]
  },
  {
   "cell_type": "code",
   "execution_count": 26,
   "id": "5e8dc6e2",
   "metadata": {},
   "outputs": [],
   "source": [
    "import numpy as np"
   ]
  },
  {
   "cell_type": "code",
   "execution_count": 27,
   "id": "7d035dc5",
   "metadata": {},
   "outputs": [],
   "source": [
    "a[\"comp_score\"]=score_com\n",
    "a[\"pos_score\"]=score_pos\n",
    "a[\"neg_score\"]=score_neg"
   ]
  },
  {
   "cell_type": "code",
   "execution_count": 28,
   "id": "87b3e6fb",
   "metadata": {},
   "outputs": [
    {
     "data": {
      "text/html": [
       "<div>\n",
       "<style scoped>\n",
       "    .dataframe tbody tr th:only-of-type {\n",
       "        vertical-align: middle;\n",
       "    }\n",
       "\n",
       "    .dataframe tbody tr th {\n",
       "        vertical-align: top;\n",
       "    }\n",
       "\n",
       "    .dataframe thead th {\n",
       "        text-align: right;\n",
       "    }\n",
       "</style>\n",
       "<table border=\"1\" class=\"dataframe\">\n",
       "  <thead>\n",
       "    <tr style=\"text-align: right;\">\n",
       "      <th></th>\n",
       "      <th>label</th>\n",
       "      <th>review</th>\n",
       "      <th>comp_score</th>\n",
       "      <th>pos_score</th>\n",
       "      <th>neg_score</th>\n",
       "    </tr>\n",
       "  </thead>\n",
       "  <tbody>\n",
       "    <tr>\n",
       "      <th>0</th>\n",
       "      <td>1</td>\n",
       "      <td>stuning even for the non-gamer: this sound tra...</td>\n",
       "      <td>0.9454</td>\n",
       "      <td>0.243</td>\n",
       "      <td>0.088</td>\n",
       "    </tr>\n",
       "    <tr>\n",
       "      <th>1</th>\n",
       "      <td>1</td>\n",
       "      <td>the best soundtrack ever to anything.: i'm rea...</td>\n",
       "      <td>0.8957</td>\n",
       "      <td>0.145</td>\n",
       "      <td>0.018</td>\n",
       "    </tr>\n",
       "    <tr>\n",
       "      <th>2</th>\n",
       "      <td>1</td>\n",
       "      <td>amazing!: this soundtrack is my favorite music...</td>\n",
       "      <td>0.9858</td>\n",
       "      <td>0.268</td>\n",
       "      <td>0.040</td>\n",
       "    </tr>\n",
       "    <tr>\n",
       "      <th>3</th>\n",
       "      <td>1</td>\n",
       "      <td>excellent soundtrack: i truly like this soundt...</td>\n",
       "      <td>0.9814</td>\n",
       "      <td>0.295</td>\n",
       "      <td>0.090</td>\n",
       "    </tr>\n",
       "    <tr>\n",
       "      <th>4</th>\n",
       "      <td>1</td>\n",
       "      <td>remember, pull your jaw off the floor after he...</td>\n",
       "      <td>0.9781</td>\n",
       "      <td>0.254</td>\n",
       "      <td>0.000</td>\n",
       "    </tr>\n",
       "  </tbody>\n",
       "</table>\n",
       "</div>"
      ],
      "text/plain": [
       "   label                                             review  comp_score  \\\n",
       "0      1  stuning even for the non-gamer: this sound tra...      0.9454   \n",
       "1      1  the best soundtrack ever to anything.: i'm rea...      0.8957   \n",
       "2      1  amazing!: this soundtrack is my favorite music...      0.9858   \n",
       "3      1  excellent soundtrack: i truly like this soundt...      0.9814   \n",
       "4      1  remember, pull your jaw off the floor after he...      0.9781   \n",
       "\n",
       "   pos_score  neg_score  \n",
       "0      0.243      0.088  \n",
       "1      0.145      0.018  \n",
       "2      0.268      0.040  \n",
       "3      0.295      0.090  \n",
       "4      0.254      0.000  "
      ]
     },
     "execution_count": 28,
     "metadata": {},
     "output_type": "execute_result"
    }
   ],
   "source": [
    "a.head()"
   ]
  },
  {
   "cell_type": "code",
   "execution_count": 29,
   "id": "2027d173",
   "metadata": {},
   "outputs": [
    {
     "data": {
      "text/plain": [
       "0.3351329799999999"
      ]
     },
     "execution_count": 29,
     "metadata": {},
     "output_type": "execute_result"
    }
   ],
   "source": [
    "a[\"comp_score\"].mean()"
   ]
  },
  {
   "cell_type": "code",
   "execution_count": 30,
   "id": "913e5351",
   "metadata": {},
   "outputs": [
    {
     "data": {
      "text/plain": [
       "0.15111080000000007"
      ]
     },
     "execution_count": 30,
     "metadata": {},
     "output_type": "execute_result"
    }
   ],
   "source": [
    "a[\"pos_score\"].mean()"
   ]
  },
  {
   "cell_type": "code",
   "execution_count": 31,
   "id": "a07778a1",
   "metadata": {},
   "outputs": [
    {
     "data": {
      "text/plain": [
       "0.07603099999999988"
      ]
     },
     "execution_count": 31,
     "metadata": {},
     "output_type": "execute_result"
    }
   ],
   "source": [
    "a[\"neg_score\"].mean()"
   ]
  },
  {
   "cell_type": "code",
   "execution_count": 32,
   "id": "0b93c67b",
   "metadata": {},
   "outputs": [
    {
     "data": {
      "text/html": [
       "<div>\n",
       "<style scoped>\n",
       "    .dataframe tbody tr th:only-of-type {\n",
       "        vertical-align: middle;\n",
       "    }\n",
       "\n",
       "    .dataframe tbody tr th {\n",
       "        vertical-align: top;\n",
       "    }\n",
       "\n",
       "    .dataframe thead th {\n",
       "        text-align: right;\n",
       "    }\n",
       "</style>\n",
       "<table border=\"1\" class=\"dataframe\">\n",
       "  <thead>\n",
       "    <tr style=\"text-align: right;\">\n",
       "      <th></th>\n",
       "      <th>label</th>\n",
       "      <th>review</th>\n",
       "      <th>comp_score</th>\n",
       "      <th>pos_score</th>\n",
       "      <th>neg_score</th>\n",
       "    </tr>\n",
       "  </thead>\n",
       "  <tbody>\n",
       "  </tbody>\n",
       "</table>\n",
       "</div>"
      ],
      "text/plain": [
       "Empty DataFrame\n",
       "Columns: [label, review, comp_score, pos_score, neg_score]\n",
       "Index: []"
      ]
     },
     "execution_count": 32,
     "metadata": {},
     "output_type": "execute_result"
    }
   ],
   "source": [
    "a[a.label==\"neg\"]"
   ]
  },
  {
   "cell_type": "code",
   "execution_count": 33,
   "id": "8bc4c814",
   "metadata": {},
   "outputs": [
    {
     "name": "stdout",
     "output_type": "stream",
     "text": [
      "Requirement already satisfied: textblob in c:\\users\\hp\\anaconda3\\lib\\site-packages (0.15.3)\n",
      "Requirement already satisfied: nltk>=3.1 in c:\\users\\hp\\anaconda3\\lib\\site-packages (from textblob) (3.6.1)\n",
      "Requirement already satisfied: regex in c:\\users\\hp\\anaconda3\\lib\\site-packages (from nltk>=3.1->textblob) (2021.4.4)\n",
      "Requirement already satisfied: joblib in c:\\users\\hp\\anaconda3\\lib\\site-packages (from nltk>=3.1->textblob) (1.0.1)\n",
      "Requirement already satisfied: tqdm in c:\\users\\hp\\anaconda3\\lib\\site-packages (from nltk>=3.1->textblob) (4.59.0)\n",
      "Requirement already satisfied: click in c:\\users\\hp\\anaconda3\\lib\\site-packages (from nltk>=3.1->textblob) (7.1.2)\n"
     ]
    }
   ],
   "source": [
    "!pip install textblob"
   ]
  },
  {
   "cell_type": "code",
   "execution_count": 34,
   "id": "e153d043",
   "metadata": {},
   "outputs": [],
   "source": [
    "from textblob import TextBlob"
   ]
  },
  {
   "cell_type": "code",
   "execution_count": 35,
   "id": "dd934a35",
   "metadata": {},
   "outputs": [
    {
     "name": "stdout",
     "output_type": "stream",
     "text": [
      "Sentiment(polarity=0.9099999999999999, subjectivity=0.7800000000000001)\n",
      "Sentiment(polarity=-0.9099999999999998, subjectivity=0.8666666666666667)\n",
      "Sentiment(polarity=0.0, subjectivity=0.0)\n"
     ]
    }
   ],
   "source": [
    "text1=\"food made at the resturant was very good\"\n",
    "text2=\"color of this car is very bad and\"\n",
    "text3=\"sun risies in east\"\n",
    "blob1=TextBlob(text1)\n",
    "blob2=TextBlob(text2)\n",
    "blob3=TextBlob(text3)\n",
    "print(blob1.sentiment)\n",
    "print(blob2.sentiment)\n",
    "print(blob3.sentiment)"
   ]
  },
  {
   "cell_type": "code",
   "execution_count": 36,
   "id": "17dbddb7",
   "metadata": {},
   "outputs": [],
   "source": [
    "polarity_score=[]\n",
    "for i in range(0,a.shape[0]):\n",
    "    score=TextBlob(a.iloc[i][1])\n",
    "    score1=score.sentiment[0]\n",
    "    polarity_score.append(score1)"
   ]
  },
  {
   "cell_type": "code",
   "execution_count": 37,
   "id": "c8f7531f",
   "metadata": {},
   "outputs": [],
   "source": [
    "import pandas as pd"
   ]
  },
  {
   "cell_type": "code",
   "execution_count": 38,
   "id": "2783b309",
   "metadata": {},
   "outputs": [],
   "source": [
    "a[\"polarity_score\"]=polarity_score## given loop tog et polarity score for whole amazon data"
   ]
  },
  {
   "cell_type": "code",
   "execution_count": 39,
   "id": "79edd149",
   "metadata": {},
   "outputs": [
    {
     "data": {
      "text/html": [
       "<div>\n",
       "<style scoped>\n",
       "    .dataframe tbody tr th:only-of-type {\n",
       "        vertical-align: middle;\n",
       "    }\n",
       "\n",
       "    .dataframe tbody tr th {\n",
       "        vertical-align: top;\n",
       "    }\n",
       "\n",
       "    .dataframe thead th {\n",
       "        text-align: right;\n",
       "    }\n",
       "</style>\n",
       "<table border=\"1\" class=\"dataframe\">\n",
       "  <thead>\n",
       "    <tr style=\"text-align: right;\">\n",
       "      <th></th>\n",
       "      <th>label</th>\n",
       "      <th>review</th>\n",
       "      <th>comp_score</th>\n",
       "      <th>pos_score</th>\n",
       "      <th>neg_score</th>\n",
       "      <th>polarity_score</th>\n",
       "    </tr>\n",
       "  </thead>\n",
       "  <tbody>\n",
       "    <tr>\n",
       "      <th>0</th>\n",
       "      <td>1</td>\n",
       "      <td>stuning even for the non-gamer: this sound tra...</td>\n",
       "      <td>0.9454</td>\n",
       "      <td>0.243</td>\n",
       "      <td>0.088</td>\n",
       "      <td>-0.021875</td>\n",
       "    </tr>\n",
       "    <tr>\n",
       "      <th>1</th>\n",
       "      <td>1</td>\n",
       "      <td>the best soundtrack ever to anything.: i'm rea...</td>\n",
       "      <td>0.8957</td>\n",
       "      <td>0.145</td>\n",
       "      <td>0.018</td>\n",
       "      <td>0.261111</td>\n",
       "    </tr>\n",
       "    <tr>\n",
       "      <th>2</th>\n",
       "      <td>1</td>\n",
       "      <td>amazing!: this soundtrack is my favorite music...</td>\n",
       "      <td>0.9858</td>\n",
       "      <td>0.268</td>\n",
       "      <td>0.040</td>\n",
       "      <td>0.274691</td>\n",
       "    </tr>\n",
       "    <tr>\n",
       "      <th>3</th>\n",
       "      <td>1</td>\n",
       "      <td>excellent soundtrack: i truly like this soundt...</td>\n",
       "      <td>0.9814</td>\n",
       "      <td>0.295</td>\n",
       "      <td>0.090</td>\n",
       "      <td>0.272727</td>\n",
       "    </tr>\n",
       "    <tr>\n",
       "      <th>4</th>\n",
       "      <td>1</td>\n",
       "      <td>remember, pull your jaw off the floor after he...</td>\n",
       "      <td>0.9781</td>\n",
       "      <td>0.254</td>\n",
       "      <td>0.000</td>\n",
       "      <td>0.324802</td>\n",
       "    </tr>\n",
       "  </tbody>\n",
       "</table>\n",
       "</div>"
      ],
      "text/plain": [
       "   label                                             review  comp_score  \\\n",
       "0      1  stuning even for the non-gamer: this sound tra...      0.9454   \n",
       "1      1  the best soundtrack ever to anything.: i'm rea...      0.8957   \n",
       "2      1  amazing!: this soundtrack is my favorite music...      0.9858   \n",
       "3      1  excellent soundtrack: i truly like this soundt...      0.9814   \n",
       "4      1  remember, pull your jaw off the floor after he...      0.9781   \n",
       "\n",
       "   pos_score  neg_score  polarity_score  \n",
       "0      0.243      0.088       -0.021875  \n",
       "1      0.145      0.018        0.261111  \n",
       "2      0.268      0.040        0.274691  \n",
       "3      0.295      0.090        0.272727  \n",
       "4      0.254      0.000        0.324802  "
      ]
     },
     "execution_count": 39,
     "metadata": {},
     "output_type": "execute_result"
    }
   ],
   "source": [
    "a.head()## add the abov e column here"
   ]
  },
  {
   "cell_type": "code",
   "execution_count": 40,
   "id": "ad4395a9",
   "metadata": {},
   "outputs": [],
   "source": [
    "import en_core_web_sm"
   ]
  },
  {
   "cell_type": "code",
   "execution_count": 41,
   "id": "f09a5c45",
   "metadata": {},
   "outputs": [],
   "source": [
    "import spacy"
   ]
  },
  {
   "cell_type": "code",
   "execution_count": 44,
   "id": "a924903d",
   "metadata": {},
   "outputs": [],
   "source": [
    "lang = spacy.load(\"en_core_web_sm\")### this is your inbuild dictonary\n",
    "\n"
   ]
  },
  {
   "cell_type": "code",
   "execution_count": 45,
   "id": "be61f8f7",
   "metadata": {},
   "outputs": [],
   "source": [
    "doc = lang(\"Mumbai is a finacial capital of india. 1st quarter of the current year saw GDP of india decline by 24 %\")"
   ]
  },
  {
   "cell_type": "code",
   "execution_count": 46,
   "id": "c491d8b6",
   "metadata": {},
   "outputs": [
    {
     "data": {
      "text/plain": [
       "spacy.tokens.doc.Doc"
      ]
     },
     "execution_count": 46,
     "metadata": {},
     "output_type": "execute_result"
    }
   ],
   "source": [
    "type(doc)"
   ]
  },
  {
   "cell_type": "code",
   "execution_count": 47,
   "id": "c00a1a65",
   "metadata": {},
   "outputs": [
    {
     "name": "stdout",
     "output_type": "stream",
     "text": [
      "Mumbai\n",
      "is\n",
      "a\n",
      "finacial\n",
      "capital\n",
      "of\n",
      "india\n",
      ".\n",
      "1st\n",
      "quarter\n",
      "of\n",
      "the\n",
      "current\n",
      "year\n",
      "saw\n",
      "GDP\n",
      "of\n",
      "india\n",
      "decline\n",
      "by\n",
      "24\n",
      "%\n"
     ]
    }
   ],
   "source": [
    "for i in doc:\n",
    "    print(i.text)"
   ]
  },
  {
   "cell_type": "code",
   "execution_count": 48,
   "id": "c8b42501",
   "metadata": {},
   "outputs": [
    {
     "name": "stdout",
     "output_type": "stream",
     "text": [
      "Mumbai PROPN\n",
      "is AUX\n",
      "a DET\n",
      "finacial ADJ\n",
      "capital NOUN\n",
      "of ADP\n",
      "india PROPN\n",
      ". PUNCT\n",
      "1st ADJ\n",
      "quarter NOUN\n",
      "of ADP\n",
      "the DET\n",
      "current ADJ\n",
      "year NOUN\n",
      "saw VERB\n",
      "GDP PROPN\n",
      "of ADP\n",
      "india PROPN\n",
      "decline NOUN\n",
      "by ADP\n",
      "24 NUM\n",
      "% NOUN\n"
     ]
    }
   ],
   "source": [
    "for i in doc:\n",
    "    print(i.text,i.pos_)"
   ]
  },
  {
   "cell_type": "code",
   "execution_count": 49,
   "id": "494515f4",
   "metadata": {},
   "outputs": [
    {
     "data": {
      "text/plain": [
       "'PROPN'"
      ]
     },
     "execution_count": 49,
     "metadata": {},
     "output_type": "execute_result"
    }
   ],
   "source": [
    "doc[0].pos_"
   ]
  },
  {
   "cell_type": "code",
   "execution_count": 50,
   "id": "73f5eab5",
   "metadata": {},
   "outputs": [
    {
     "data": {
      "text/plain": [
       "GDP of india decline"
      ]
     },
     "execution_count": 50,
     "metadata": {},
     "output_type": "execute_result"
    }
   ],
   "source": [
    "doc1=doc[15:19]\n",
    "doc1"
   ]
  },
  {
   "cell_type": "code",
   "execution_count": 51,
   "id": "d13c11df",
   "metadata": {},
   "outputs": [
    {
     "data": {
      "text/plain": [
       "capital of india"
      ]
     },
     "execution_count": 51,
     "metadata": {},
     "output_type": "execute_result"
    }
   ],
   "source": [
    "doc2=doc[4:7]\n",
    "doc2"
   ]
  },
  {
   "cell_type": "code",
   "execution_count": 53,
   "id": "a9d6fae5",
   "metadata": {},
   "outputs": [
    {
     "name": "stdout",
     "output_type": "stream",
     "text": [
      "Mumbai is a finacial capital of india.\n",
      "1st quarter of the current year saw GDP of india decline by 24 %\n"
     ]
    }
   ],
   "source": [
    "for sentences in doc.sents:\n",
    "    print(sentences)"
   ]
  },
  {
   "cell_type": "code",
   "execution_count": 54,
   "id": "2ad44d28",
   "metadata": {},
   "outputs": [],
   "source": [
    "### count of sentence"
   ]
  },
  {
   "cell_type": "code",
   "execution_count": 55,
   "id": "57aea2b2",
   "metadata": {},
   "outputs": [],
   "source": [
    "\n",
    "l1=[]\n",
    "for sentences in doc.sents:\n",
    "    l1.append(sentences)"
   ]
  },
  {
   "cell_type": "code",
   "execution_count": 56,
   "id": "e9bcc05c",
   "metadata": {},
   "outputs": [
    {
     "data": {
      "text/plain": [
       "2"
      ]
     },
     "execution_count": 56,
     "metadata": {},
     "output_type": "execute_result"
    }
   ],
   "source": [
    "len(l1)"
   ]
  },
  {
   "cell_type": "code",
   "execution_count": 57,
   "id": "e536946c",
   "metadata": {},
   "outputs": [
    {
     "data": {
      "text/plain": [
       "[Mumbai is a finacial capital of india.,\n",
       " 1st quarter of the current year saw GDP of india decline by 24 %]"
      ]
     },
     "execution_count": 57,
     "metadata": {},
     "output_type": "execute_result"
    }
   ],
   "source": [
    "l1"
   ]
  },
  {
   "cell_type": "code",
   "execution_count": 60,
   "id": "0d39792b",
   "metadata": {},
   "outputs": [],
   "source": [
    "doc3 =lang(\"my website is www.abc.com and my email ID is xyz@gmail.com . This is just an ex .\")"
   ]
  },
  {
   "cell_type": "code",
   "execution_count": 61,
   "id": "60a40384",
   "metadata": {},
   "outputs": [
    {
     "name": "stdout",
     "output_type": "stream",
     "text": [
      "my\n",
      "website\n",
      "is\n",
      "www.abc.com\n",
      "and\n",
      "my\n",
      "email\n",
      "ID\n",
      "is\n",
      "xyz@gmail.com\n",
      ".\n",
      "This\n",
      "is\n",
      "just\n",
      "an\n",
      "ex\n",
      ".\n"
     ]
    }
   ],
   "source": [
    "for token in doc3:\n",
    "    print(token)"
   ]
  },
  {
   "cell_type": "code",
   "execution_count": 62,
   "id": "c2e3ce00",
   "metadata": {},
   "outputs": [],
   "source": [
    "doc4 = lang(\"fares are charged at 20km .Total cost is $20. I live in Pune \")"
   ]
  },
  {
   "cell_type": "code",
   "execution_count": 64,
   "id": "5415948f",
   "metadata": {},
   "outputs": [
    {
     "name": "stdout",
     "output_type": "stream",
     "text": [
      "fares\n",
      "are\n",
      "charged\n",
      "at\n",
      "20\n",
      "km\n",
      ".Total\n",
      "cost\n",
      "is\n",
      "$\n",
      "20\n",
      ".\n",
      "I\n",
      "live\n",
      "in\n",
      "Pune\n"
     ]
    }
   ],
   "source": [
    "for token in doc4:\n",
    "    print(token)# able to separate number and units"
   ]
  },
  {
   "cell_type": "code",
   "execution_count": 66,
   "id": "bb201873",
   "metadata": {},
   "outputs": [],
   "source": [
    "doc4 = lang(\"fares are charged at 20km .Total cost is $20. I live in Pune \")"
   ]
  },
  {
   "cell_type": "code",
   "execution_count": 68,
   "id": "2bc8c6d0",
   "metadata": {},
   "outputs": [
    {
     "name": "stdout",
     "output_type": "stream",
     "text": [
      "fares|are|charged|at|20|km|.Total|cost|is|$|20|.|I|live|in|Pune|"
     ]
    }
   ],
   "source": [
    "for token in doc4:\n",
    "    print(token.text,end=\"|\")"
   ]
  },
  {
   "cell_type": "code",
   "execution_count": 75,
   "id": "8eb18afa",
   "metadata": {},
   "outputs": [],
   "source": [
    "doc6=lang(\"jagdish lives in Daund which is part of Maharashtra and which is part of India\")"
   ]
  },
  {
   "cell_type": "code",
   "execution_count": 77,
   "id": "bd3b6d7b",
   "metadata": {},
   "outputs": [
    {
     "name": "stdout",
     "output_type": "stream",
     "text": [
      "Daund\n",
      "PERSON\n",
      "\n",
      "\n",
      "Maharashtra\n",
      "ORG\n",
      "\n",
      "\n",
      "India\n",
      "GPE\n",
      "\n",
      "\n"
     ]
    }
   ],
   "source": [
    "for token in doc6.ents:\n",
    "    print(token)\n",
    "    print(token.label_)\n",
    "    print(\"\\n\")"
   ]
  },
  {
   "cell_type": "code",
   "execution_count": 79,
   "id": "096006a4",
   "metadata": {},
   "outputs": [
    {
     "name": "stdout",
     "output_type": "stream",
     "text": [
      "india\n",
      "GPE\n",
      "Countries, cities, states\n",
      "\n",
      "\n",
      "USD\n",
      "ORG\n",
      "Companies, agencies, institutions, etc.\n",
      "\n",
      "\n"
     ]
    }
   ],
   "source": [
    "doc7=lang(\"GDP of india is only rs 2 trillion USD\")\n",
    "for token in doc7.ents:\n",
    "    print(token)\n",
    "    print(token.label_)\n",
    "    print(str(spacy.explain(token.label_)))\n",
    "    print(\"\\n\")"
   ]
  },
  {
   "cell_type": "code",
   "execution_count": 81,
   "id": "af30729c",
   "metadata": {},
   "outputs": [
    {
     "name": "stdout",
     "output_type": "stream",
     "text": [
      "Apple\n",
      "ORG\n",
      "Companies, agencies, institutions, etc.\n",
      "\n",
      "\n",
      "India\n",
      "GPE\n",
      "Countries, cities, states\n",
      "\n",
      "\n"
     ]
    }
   ],
   "source": [
    "doc8=lang(\"Apple has released new Iphone in India\")\n",
    "for token in doc8.ents:\n",
    "    print(token)\n",
    "    print(token.label_)\n",
    "    print(str(spacy.explain(token.label_)))\n",
    "    print(\"\\n\")"
   ]
  },
  {
   "cell_type": "code",
   "execution_count": 82,
   "id": "de3a3d7e",
   "metadata": {},
   "outputs": [
    {
     "name": "stdout",
     "output_type": "stream",
     "text": [
      "Apple\n",
      "ORG\n",
      "Companies, agencies, institutions, etc.\n",
      "\n",
      "\n",
      "Tree\n",
      "PERSON\n",
      "People, including fictional\n",
      "\n",
      "\n"
     ]
    }
   ],
   "source": [
    "doc9=lang(\"Apple grows on Tree\")\n",
    "for token in doc9.ents:\n",
    "    print(token)\n",
    "    print(token.label_)\n",
    "    print(str(spacy.explain(token.label_)))\n",
    "    print(\"\\n\")"
   ]
  },
  {
   "cell_type": "code",
   "execution_count": 86,
   "id": "918f0d4a",
   "metadata": {},
   "outputs": [
    {
     "name": "stdout",
     "output_type": "stream",
     "text": [
      "india\n",
      "GPE\n",
      "Countries, cities, states\n",
      "\n",
      "\n"
     ]
    }
   ],
   "source": [
    "doc81=lang(\"rajasthan is the norethen state in india\")\n",
    "for token in doc81.ents:\n",
    "    print(token)\n",
    "    print(token.label_)\n",
    "    print(str(spacy.explain(token.label_)))\n",
    "    print(\"\\n\")"
   ]
  },
  {
   "cell_type": "code",
   "execution_count": 88,
   "id": "b0200b45",
   "metadata": {},
   "outputs": [],
   "source": [
    "from spacy import displacy"
   ]
  },
  {
   "cell_type": "code",
   "execution_count": 90,
   "id": "dd010377",
   "metadata": {},
   "outputs": [
    {
     "data": {
      "text/html": [
       "<span class=\"tex2jax_ignore\"><div class=\"entities\" style=\"line-height: 2.5; direction: ltr\">\n",
       "<mark class=\"entity\" style=\"background: #bfe1d9; padding: 0.45em 0.6em; margin: 0 0.25em; line-height: 1; border-radius: 0.35em;\">\n",
       "    last year\n",
       "    <span style=\"font-size: 0.8em; font-weight: bold; line-height: 1; border-radius: 0.35em; vertical-align: middle; margin-left: 0.5rem\">DATE</span>\n",
       "</mark>\n",
       " \n",
       "<mark class=\"entity\" style=\"background: #7aecec; padding: 0.45em 0.6em; margin: 0 0.25em; line-height: 1; border-radius: 0.35em;\">\n",
       "    MGHector\n",
       "    <span style=\"font-size: 0.8em; font-weight: bold; line-height: 1; border-radius: 0.35em; vertical-align: middle; margin-left: 0.5rem\">ORG</span>\n",
       "</mark>\n",
       " sold \n",
       "<mark class=\"entity\" style=\"background: #e4e7d2; padding: 0.45em 0.6em; margin: 0 0.25em; line-height: 1; border-radius: 0.35em;\">\n",
       "    15000\n",
       "    <span style=\"font-size: 0.8em; font-weight: bold; line-height: 1; border-radius: 0.35em; vertical-align: middle; margin-left: 0.5rem\">CARDINAL</span>\n",
       "</mark>\n",
       " cars in \n",
       "<mark class=\"entity\" style=\"background: #feca74; padding: 0.45em 0.6em; margin: 0 0.25em; line-height: 1; border-radius: 0.35em;\">\n",
       "    india\n",
       "    <span style=\"font-size: 0.8em; font-weight: bold; line-height: 1; border-radius: 0.35em; vertical-align: middle; margin-left: 0.5rem\">GPE</span>\n",
       "</mark>\n",
       "</div></span>"
      ],
      "text/plain": [
       "<IPython.core.display.HTML object>"
      ]
     },
     "metadata": {},
     "output_type": "display_data"
    }
   ],
   "source": [
    "doc8=lang(\"last year MGHector sold 15000 cars in india\")\n",
    "displacy.render(doc8,style=\"ent\")"
   ]
  },
  {
   "cell_type": "code",
   "execution_count": 91,
   "id": "8c15f9a7",
   "metadata": {},
   "outputs": [
    {
     "data": {
      "text/html": [
       "<span class=\"tex2jax_ignore\"><svg xmlns=\"http://www.w3.org/2000/svg\" xmlns:xlink=\"http://www.w3.org/1999/xlink\" xml:lang=\"en\" id=\"512cbec8951a4beab8c927fc668897c2-0\" class=\"displacy\" width=\"1450\" height=\"399.5\" direction=\"ltr\" style=\"max-width: none; height: 399.5px; color: #000000; background: #ffffff; font-family: Arial; direction: ltr\">\n",
       "<text class=\"displacy-token\" fill=\"currentColor\" text-anchor=\"middle\" y=\"309.5\">\n",
       "    <tspan class=\"displacy-word\" fill=\"currentColor\" x=\"50\">last</tspan>\n",
       "    <tspan class=\"displacy-tag\" dy=\"2em\" fill=\"currentColor\" x=\"50\">ADJ</tspan>\n",
       "</text>\n",
       "\n",
       "<text class=\"displacy-token\" fill=\"currentColor\" text-anchor=\"middle\" y=\"309.5\">\n",
       "    <tspan class=\"displacy-word\" fill=\"currentColor\" x=\"225\">year</tspan>\n",
       "    <tspan class=\"displacy-tag\" dy=\"2em\" fill=\"currentColor\" x=\"225\">NOUN</tspan>\n",
       "</text>\n",
       "\n",
       "<text class=\"displacy-token\" fill=\"currentColor\" text-anchor=\"middle\" y=\"309.5\">\n",
       "    <tspan class=\"displacy-word\" fill=\"currentColor\" x=\"400\">MGHector</tspan>\n",
       "    <tspan class=\"displacy-tag\" dy=\"2em\" fill=\"currentColor\" x=\"400\">PROPN</tspan>\n",
       "</text>\n",
       "\n",
       "<text class=\"displacy-token\" fill=\"currentColor\" text-anchor=\"middle\" y=\"309.5\">\n",
       "    <tspan class=\"displacy-word\" fill=\"currentColor\" x=\"575\">sold</tspan>\n",
       "    <tspan class=\"displacy-tag\" dy=\"2em\" fill=\"currentColor\" x=\"575\">VERB</tspan>\n",
       "</text>\n",
       "\n",
       "<text class=\"displacy-token\" fill=\"currentColor\" text-anchor=\"middle\" y=\"309.5\">\n",
       "    <tspan class=\"displacy-word\" fill=\"currentColor\" x=\"750\">15000</tspan>\n",
       "    <tspan class=\"displacy-tag\" dy=\"2em\" fill=\"currentColor\" x=\"750\">NUM</tspan>\n",
       "</text>\n",
       "\n",
       "<text class=\"displacy-token\" fill=\"currentColor\" text-anchor=\"middle\" y=\"309.5\">\n",
       "    <tspan class=\"displacy-word\" fill=\"currentColor\" x=\"925\">cars</tspan>\n",
       "    <tspan class=\"displacy-tag\" dy=\"2em\" fill=\"currentColor\" x=\"925\">NOUN</tspan>\n",
       "</text>\n",
       "\n",
       "<text class=\"displacy-token\" fill=\"currentColor\" text-anchor=\"middle\" y=\"309.5\">\n",
       "    <tspan class=\"displacy-word\" fill=\"currentColor\" x=\"1100\">in</tspan>\n",
       "    <tspan class=\"displacy-tag\" dy=\"2em\" fill=\"currentColor\" x=\"1100\">ADP</tspan>\n",
       "</text>\n",
       "\n",
       "<text class=\"displacy-token\" fill=\"currentColor\" text-anchor=\"middle\" y=\"309.5\">\n",
       "    <tspan class=\"displacy-word\" fill=\"currentColor\" x=\"1275\">india</tspan>\n",
       "    <tspan class=\"displacy-tag\" dy=\"2em\" fill=\"currentColor\" x=\"1275\">PROPN</tspan>\n",
       "</text>\n",
       "\n",
       "<g class=\"displacy-arrow\">\n",
       "    <path class=\"displacy-arc\" id=\"arrow-512cbec8951a4beab8c927fc668897c2-0-0\" stroke-width=\"2px\" d=\"M70,264.5 C70,177.0 215.0,177.0 215.0,264.5\" fill=\"none\" stroke=\"currentColor\"/>\n",
       "    <text dy=\"1.25em\" style=\"font-size: 0.8em; letter-spacing: 1px\">\n",
       "        <textPath xlink:href=\"#arrow-512cbec8951a4beab8c927fc668897c2-0-0\" class=\"displacy-label\" startOffset=\"50%\" side=\"left\" fill=\"currentColor\" text-anchor=\"middle\">amod</textPath>\n",
       "    </text>\n",
       "    <path class=\"displacy-arrowhead\" d=\"M70,266.5 L62,254.5 78,254.5\" fill=\"currentColor\"/>\n",
       "</g>\n",
       "\n",
       "<g class=\"displacy-arrow\">\n",
       "    <path class=\"displacy-arc\" id=\"arrow-512cbec8951a4beab8c927fc668897c2-0-1\" stroke-width=\"2px\" d=\"M245,264.5 C245,89.5 570.0,89.5 570.0,264.5\" fill=\"none\" stroke=\"currentColor\"/>\n",
       "    <text dy=\"1.25em\" style=\"font-size: 0.8em; letter-spacing: 1px\">\n",
       "        <textPath xlink:href=\"#arrow-512cbec8951a4beab8c927fc668897c2-0-1\" class=\"displacy-label\" startOffset=\"50%\" side=\"left\" fill=\"currentColor\" text-anchor=\"middle\">npadvmod</textPath>\n",
       "    </text>\n",
       "    <path class=\"displacy-arrowhead\" d=\"M245,266.5 L237,254.5 253,254.5\" fill=\"currentColor\"/>\n",
       "</g>\n",
       "\n",
       "<g class=\"displacy-arrow\">\n",
       "    <path class=\"displacy-arc\" id=\"arrow-512cbec8951a4beab8c927fc668897c2-0-2\" stroke-width=\"2px\" d=\"M420,264.5 C420,177.0 565.0,177.0 565.0,264.5\" fill=\"none\" stroke=\"currentColor\"/>\n",
       "    <text dy=\"1.25em\" style=\"font-size: 0.8em; letter-spacing: 1px\">\n",
       "        <textPath xlink:href=\"#arrow-512cbec8951a4beab8c927fc668897c2-0-2\" class=\"displacy-label\" startOffset=\"50%\" side=\"left\" fill=\"currentColor\" text-anchor=\"middle\">nsubj</textPath>\n",
       "    </text>\n",
       "    <path class=\"displacy-arrowhead\" d=\"M420,266.5 L412,254.5 428,254.5\" fill=\"currentColor\"/>\n",
       "</g>\n",
       "\n",
       "<g class=\"displacy-arrow\">\n",
       "    <path class=\"displacy-arc\" id=\"arrow-512cbec8951a4beab8c927fc668897c2-0-3\" stroke-width=\"2px\" d=\"M770,264.5 C770,177.0 915.0,177.0 915.0,264.5\" fill=\"none\" stroke=\"currentColor\"/>\n",
       "    <text dy=\"1.25em\" style=\"font-size: 0.8em; letter-spacing: 1px\">\n",
       "        <textPath xlink:href=\"#arrow-512cbec8951a4beab8c927fc668897c2-0-3\" class=\"displacy-label\" startOffset=\"50%\" side=\"left\" fill=\"currentColor\" text-anchor=\"middle\">nummod</textPath>\n",
       "    </text>\n",
       "    <path class=\"displacy-arrowhead\" d=\"M770,266.5 L762,254.5 778,254.5\" fill=\"currentColor\"/>\n",
       "</g>\n",
       "\n",
       "<g class=\"displacy-arrow\">\n",
       "    <path class=\"displacy-arc\" id=\"arrow-512cbec8951a4beab8c927fc668897c2-0-4\" stroke-width=\"2px\" d=\"M595,264.5 C595,89.5 920.0,89.5 920.0,264.5\" fill=\"none\" stroke=\"currentColor\"/>\n",
       "    <text dy=\"1.25em\" style=\"font-size: 0.8em; letter-spacing: 1px\">\n",
       "        <textPath xlink:href=\"#arrow-512cbec8951a4beab8c927fc668897c2-0-4\" class=\"displacy-label\" startOffset=\"50%\" side=\"left\" fill=\"currentColor\" text-anchor=\"middle\">dobj</textPath>\n",
       "    </text>\n",
       "    <path class=\"displacy-arrowhead\" d=\"M920.0,266.5 L928.0,254.5 912.0,254.5\" fill=\"currentColor\"/>\n",
       "</g>\n",
       "\n",
       "<g class=\"displacy-arrow\">\n",
       "    <path class=\"displacy-arc\" id=\"arrow-512cbec8951a4beab8c927fc668897c2-0-5\" stroke-width=\"2px\" d=\"M595,264.5 C595,2.0 1100.0,2.0 1100.0,264.5\" fill=\"none\" stroke=\"currentColor\"/>\n",
       "    <text dy=\"1.25em\" style=\"font-size: 0.8em; letter-spacing: 1px\">\n",
       "        <textPath xlink:href=\"#arrow-512cbec8951a4beab8c927fc668897c2-0-5\" class=\"displacy-label\" startOffset=\"50%\" side=\"left\" fill=\"currentColor\" text-anchor=\"middle\">prep</textPath>\n",
       "    </text>\n",
       "    <path class=\"displacy-arrowhead\" d=\"M1100.0,266.5 L1108.0,254.5 1092.0,254.5\" fill=\"currentColor\"/>\n",
       "</g>\n",
       "\n",
       "<g class=\"displacy-arrow\">\n",
       "    <path class=\"displacy-arc\" id=\"arrow-512cbec8951a4beab8c927fc668897c2-0-6\" stroke-width=\"2px\" d=\"M1120,264.5 C1120,177.0 1265.0,177.0 1265.0,264.5\" fill=\"none\" stroke=\"currentColor\"/>\n",
       "    <text dy=\"1.25em\" style=\"font-size: 0.8em; letter-spacing: 1px\">\n",
       "        <textPath xlink:href=\"#arrow-512cbec8951a4beab8c927fc668897c2-0-6\" class=\"displacy-label\" startOffset=\"50%\" side=\"left\" fill=\"currentColor\" text-anchor=\"middle\">pobj</textPath>\n",
       "    </text>\n",
       "    <path class=\"displacy-arrowhead\" d=\"M1265.0,266.5 L1273.0,254.5 1257.0,254.5\" fill=\"currentColor\"/>\n",
       "</g>\n",
       "</svg></span>"
      ],
      "text/plain": [
       "<IPython.core.display.HTML object>"
      ]
     },
     "metadata": {},
     "output_type": "display_data"
    }
   ],
   "source": [
    "doc8=lang(\"last year MGHector sold 15000 cars in india\")\n",
    "displacy.render(doc8,style=\"dep\")"
   ]
  },
  {
   "cell_type": "code",
   "execution_count": 92,
   "id": "337d5dbd",
   "metadata": {},
   "outputs": [],
   "source": [
    "import nltk"
   ]
  },
  {
   "cell_type": "code",
   "execution_count": 95,
   "id": "315ca1cd",
   "metadata": {},
   "outputs": [],
   "source": [
    "from nltk.stem.snowball import SnowballStemmer"
   ]
  },
  {
   "cell_type": "code",
   "execution_count": 96,
   "id": "89baa9e2",
   "metadata": {},
   "outputs": [],
   "source": [
    "stemmer=SnowballStemmer(language=\"english\")"
   ]
  },
  {
   "cell_type": "code",
   "execution_count": 99,
   "id": "191d8eff",
   "metadata": {},
   "outputs": [],
   "source": [
    "word_list=[\"swim\",\"swimmer\",\"swimming\",\"matches\",\"mens\",\"cars\",\"laughing\",\"loving\",\"humans\",\"running\"]"
   ]
  },
  {
   "cell_type": "code",
   "execution_count": 100,
   "id": "fc9df5b5",
   "metadata": {},
   "outputs": [
    {
     "name": "stdout",
     "output_type": "stream",
     "text": [
      "swim its stemming is..> \t swim\n",
      "swimmer its stemming is..> \t swimmer\n",
      "swimming its stemming is..> \t swim\n",
      "matches its stemming is..> \t match\n",
      "mens its stemming is..> \t men\n",
      "cars its stemming is..> \t car\n",
      "laughing its stemming is..> \t laugh\n",
      "loving its stemming is..> \t love\n",
      "humans its stemming is..> \t human\n",
      "running its stemming is..> \t run\n"
     ]
    }
   ],
   "source": [
    "for word in word_list:\n",
    "    print(word,\"its stemming is..>\",\"\\t\",stemmer.stem(word))"
   ]
  },
  {
   "cell_type": "code",
   "execution_count": 101,
   "id": "5d67eae1",
   "metadata": {},
   "outputs": [
    {
     "name": "stdout",
     "output_type": "stream",
     "text": [
      "{'alone', 'whether', 'and', 'below', 'his', 'further', 'thru', 'really', 'those', 'please', 'hereupon', 'that', 'whom', 'yourselves', 'has', 'be', 'unless', 'in', 'therein', 'why', 'with', 'you', 'third', 'four', 'he', 'together', '’d', 'up', 'whereafter', 'whither', 'else', 'herein', '‘s', 'yet', 'must', 'one', 'anything', 'once', 'because', 'thence', 'if', 'they', 'see', 'show', 'still', 'sometimes', 'wherever', 'when', 'are', 'out', 'make', 'doing', 're', 'whereupon', \"n't\", 'almost', 'after', 'formerly', 'through', 'take', 'made', 'since', 'we', 'me', \"'re\", 'from', 'something', 'do', 'but', 'move', 'a', 'been', \"'s\", 'back', 'some', 'an', 'whence', 'without', 'top', 'towards', 'n‘t', 'such', '‘ll', 'mine', '‘re', 'across', 'fifteen', 'toward', \"'ll\", 'again', 'bottom', 'becoming', 'elsewhere', 'down', 'neither', 'it', 'regarding', 'forty', 'both', 'everywhere', 'thereafter', 'using', 'just', 'beyond', 'name', 'go', 'did', 'even', 'upon', 'twelve', 'amongst', 'will', 'also', 'put', 'perhaps', 'your', 'during', 'became', 'ourselves', 'ten', 'quite', 'into', 'within', 'part', 'give', 'amount', 'too', 'by', 'between', 'which', 'so', 'already', 'everyone', 'how', 'were', 'where', 'whose', 'than', 'her', 'each', 'eleven', 'whereas', 'thus', 'always', 'thereby', 'moreover', 'say', 'used', 'meanwhile', 'nine', 'very', 'due', 'fifty', 'who', 'call', 'hundred', 'can', 'have', 'nobody', 'n’t', 'what', 'serious', 'hence', 'our', 'although', 'themselves', 'beforehand', 'keep', 'hereafter', 'whereby', 'first', 'may', 'none', 'less', 'latterly', 'few', 'against', 'various', 'whatever', 'my', 'yours', 'its', 'side', 'was', 'yourself', 'being', 'onto', 'get', 'around', 'of', 'for', 'before', 'every', 'therefore', 'i', 'full', 'everything', 'somewhere', 'here', 'twenty', 'at', 'other', 'mostly', 'nowhere', '’m', 'somehow', 'seeming', 'the', 'herself', '‘ve', 'could', 'six', 'might', 'several', 'to', 'whenever', 'all', 'two', 'as', 'itself', 'now', 'anywhere', 'noone', 'under', '‘d', 'then', 'thereupon', 'ca', 'either', 'their', 'until', 'there', 'ours', 'next', 'sixty', 'well', 'above', 'seems', 'himself', 'along', 'should', 'them', 'us', 'ever', '’s', 'rather', 'often', 'throughout', 'or', 'this', \"'m\", 'cannot', 'last', 'latter', 'except', 'namely', '’re', 'nor', 'seem', 'much', 'anyhow', 'done', 'others', \"'d\", 'five', 'otherwise', 'least', 'him', \"'ve\", 'beside', 'hers', 'whoever', 'among', 'most', 'off', 'no', 'though', 'seemed', '‘m', 'these', 'over', 'however', '’ll', 'had', 'own', 'hereby', 'via', 'front', 'more', 'former', 'never', 'not', 'nevertheless', 'anyway', '’ve', 'anyone', 'many', 'only', 'does', 'wherein', 'am', 'on', 'would', 'per', 'empty', 'becomes', 'is', 'nothing', 'she', 'myself', 'sometime', 'any', 'become', 'while', 'same', 'another', 'about', 'afterwards', 'besides', 'behind', 'whole', 'someone', 'eight', 'indeed', 'enough', 'three'}\n"
     ]
    }
   ],
   "source": [
    "print(lang.Defaults.stop_words)"
   ]
  },
  {
   "cell_type": "code",
   "execution_count": 102,
   "id": "2e5a3308",
   "metadata": {},
   "outputs": [
    {
     "data": {
      "text/plain": [
       "326"
      ]
     },
     "execution_count": 102,
     "metadata": {},
     "output_type": "execute_result"
    }
   ],
   "source": [
    "len(lang.Defaults.stop_words)"
   ]
  },
  {
   "cell_type": "code",
   "execution_count": 103,
   "id": "f0716825",
   "metadata": {},
   "outputs": [
    {
     "name": "stdout",
     "output_type": "stream",
     "text": [
      "True\n"
     ]
    }
   ],
   "source": [
    "print(lang.vocab[\"latterly\"].is_stop)"
   ]
  },
  {
   "cell_type": "code",
   "execution_count": 104,
   "id": "c763f78e",
   "metadata": {},
   "outputs": [
    {
     "name": "stdout",
     "output_type": "stream",
     "text": [
      "False\n"
     ]
    }
   ],
   "source": [
    "print(lang.vocab[\"india\"].is_stop)"
   ]
  },
  {
   "cell_type": "code",
   "execution_count": null,
   "id": "5f080869",
   "metadata": {},
   "outputs": [],
   "source": []
  }
 ],
 "metadata": {
  "kernelspec": {
   "display_name": "Python 3",
   "language": "python",
   "name": "python3"
  },
  "language_info": {
   "codemirror_mode": {
    "name": "ipython",
    "version": 3
   },
   "file_extension": ".py",
   "mimetype": "text/x-python",
   "name": "python",
   "nbconvert_exporter": "python",
   "pygments_lexer": "ipython3",
   "version": "3.8.8"
  }
 },
 "nbformat": 4,
 "nbformat_minor": 5
}
